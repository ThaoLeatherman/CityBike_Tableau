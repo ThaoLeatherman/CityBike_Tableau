{
 "cells": [
  {
   "cell_type": "code",
   "execution_count": 1,
   "metadata": {},
   "outputs": [],
   "source": [
    "import pandas as pd"
   ]
  },
  {
   "cell_type": "code",
   "execution_count": null,
   "metadata": {},
   "outputs": [],
   "source": [
    "df1 = pd.read_csv('data/201701-citibike-tripdata.csv')\n",
    "df1.head()"
   ]
  },
  {
   "cell_type": "code",
   "execution_count": null,
   "metadata": {},
   "outputs": [],
   "source": [
    "df1.rename(columns = {'Trip Duration': 'tripduration', 'Start Time': 'starttime', \n",
    "                      'Stop Time': 'stoptime', 'Gender':'gender', \"User Type\": \"usertype\",\n",
    "                      'Bike ID': 'bikeid', 'Birth Year': 'birth year', 'Start Station ID': 'start station id',\n",
    "                      'Start Station Name': 'start station name', 'Start Station Latitude': 'start station latitude',\n",
    "                      'Start Station Longitude': 'start station longitude', 'End Station ID': 'end station id', \n",
    "                      'End Station Name': 'end station name', 'End Station Latitude': 'end station latitude',\n",
    "                      'End Station Longitude': 'end station longitude'}, inplace = True)\n",
    "df1.head()"
   ]
  },
  {
   "cell_type": "code",
   "execution_count": null,
   "metadata": {},
   "outputs": [],
   "source": [
    "df2 = pd.read_csv('data/201702-citibike-tripdata.csv')\n",
    "df2.head()"
   ]
  },
  {
   "cell_type": "code",
   "execution_count": null,
   "metadata": {},
   "outputs": [],
   "source": [
    "df2.rename(columns = {'Trip Duration': 'tripduration', 'Start Time': 'starttime', \n",
    "                      'Stop Time': 'stoptime', 'Gender':'gender', \"User Type\": \"usertype\",\n",
    "                      'Bike ID': 'bikeid', 'Birth Year': 'birth year', 'Start Station ID': 'start station id',\n",
    "                      'Start Station Name': 'start station name', 'Start Station Latitude': 'start station latitude',\n",
    "                      'Start Station Longitude': 'start station longitude', 'End Station ID': 'end station id', \n",
    "                      'End Station Name': 'end station name', 'End Station Latitude': 'end station latitude',\n",
    "                      'End Station Longitude': 'end station longitude'}, inplace = True)\n",
    "df2.head()"
   ]
  },
  {
   "cell_type": "code",
   "execution_count": null,
   "metadata": {},
   "outputs": [],
   "source": [
    "df3 = pd.read_csv('data/201703-citibike-tripdata.csv')\n",
    "df3.head()"
   ]
  },
  {
   "cell_type": "code",
   "execution_count": null,
   "metadata": {},
   "outputs": [],
   "source": [
    "df3.rename(columns = {'Trip Duration': 'tripduration', 'Start Time': 'starttime', \n",
    "                      'Stop Time': 'stoptime', 'Gender':'gender', \"User Type\": \"usertype\",\n",
    "                      'Bike ID': 'bikeid', 'Birth Year': 'birth year', 'Start Station ID': 'start station id',\n",
    "                      'Start Station Name': 'start station name', 'Start Station Latitude': 'start station latitude',\n",
    "                      'Start Station Longitude': 'start station longitude', 'End Station ID': 'end station id', \n",
    "                      'End Station Name': 'end station name', 'End Station Latitude': 'end station latitude',\n",
    "                      'End Station Longitude': 'end station longitude'}, inplace = True)\n",
    "df3.head()"
   ]
  },
  {
   "cell_type": "code",
   "execution_count": null,
   "metadata": {},
   "outputs": [],
   "source": [
    "df4 = pd.read_csv('data/201704-citibike-tripdata.csv')\n",
    "df4.head()"
   ]
  },
  {
   "cell_type": "code",
   "execution_count": null,
   "metadata": {},
   "outputs": [],
   "source": [
    "\n",
    "df5 = pd.read_csv('data/201705-citibike-tripdata.csv')\n",
    "df5.head()"
   ]
  },
  {
   "cell_type": "code",
   "execution_count": null,
   "metadata": {},
   "outputs": [],
   "source": [
    "df6 = pd.read_csv('data/201706-citibike-tripdata.csv')\n",
    "df6.head()"
   ]
  },
  {
   "cell_type": "code",
   "execution_count": null,
   "metadata": {},
   "outputs": [],
   "source": [
    "\n",
    "df7 = pd.read_csv('data/201707-citibike-tripdata.csv')\n",
    "df7.head()"
   ]
  },
  {
   "cell_type": "code",
   "execution_count": null,
   "metadata": {},
   "outputs": [],
   "source": [
    "df8 = pd.read_csv('data/201708-citibike-tripdata.csv')\n",
    "df8.head()"
   ]
  },
  {
   "cell_type": "code",
   "execution_count": null,
   "metadata": {},
   "outputs": [],
   "source": [
    "citibike_2017 = pd.concat([df1, df2, df3, df4, df5, df6, df7, df8])\n",
    "citibike_2017"
   ]
  },
  {
   "cell_type": "code",
   "execution_count": null,
   "metadata": {},
   "outputs": [],
   "source": [
    "\n",
    "citibike_2017.to_csv('citibike_2017.csv', sep = ',')"
   ]
  }
 ],
 "metadata": {
  "kernelspec": {
   "display_name": "Python 3",
   "language": "python",
   "name": "python3"
  },
  "language_info": {
   "codemirror_mode": {
    "name": "ipython",
    "version": 3
   },
   "file_extension": ".py",
   "mimetype": "text/x-python",
   "name": "python",
   "nbconvert_exporter": "python",
   "pygments_lexer": "ipython3",
   "version": "3.7.0"
  }
 },
 "nbformat": 4,
 "nbformat_minor": 2
}
